{
 "cells": [
  {
   "cell_type": "code",
   "execution_count": 18,
   "metadata": {},
   "outputs": [],
   "source": [
    "import glob\n",
    "import pandas as pd\n",
    "import numpy as np"
   ]
  },
  {
   "cell_type": "code",
   "execution_count": 45,
   "metadata": {},
   "outputs": [
    {
     "data": {
      "text/plain": [
       "'Factor 2019-07-11(2).csv'"
      ]
     },
     "execution_count": 45,
     "metadata": {},
     "output_type": "execute_result"
    }
   ],
   "source": [
    "glob.glob(\"*.csv\")[-1]"
   ]
  },
  {
   "cell_type": "code",
   "execution_count": 43,
   "metadata": {},
   "outputs": [
    {
     "data": {
      "text/plain": [
       "'Factor 2019-07-11.csv'"
      ]
     },
     "execution_count": 43,
     "metadata": {},
     "output_type": "execute_result"
    }
   ],
   "source": [
    "glob.glob(\"*.csv\")[-1]"
   ]
  },
  {
   "cell_type": "code",
   "execution_count": 4,
   "metadata": {},
   "outputs": [],
   "source": [
    "data = pd.read_csv(glob.glob(\"*.csv\")[-1], index_col = 0)"
   ]
  },
  {
   "cell_type": "code",
   "execution_count": 10,
   "metadata": {},
   "outputs": [
    {
     "data": {
      "text/plain": [
       "DatetimeIndex(['2000-01-31', '2000-02-29', '2000-03-31', '2000-04-30',\n",
       "               '2000-05-31', '2000-06-30', '2000-07-31', '2000-08-31',\n",
       "               '2000-09-30', '2000-10-31',\n",
       "               ...\n",
       "               '2019-10-31', '2019-11-30', '2019-12-31', '2020-01-31',\n",
       "               '2020-02-29', '2020-03-31', '2020-04-30', '2020-05-31',\n",
       "               '2020-06-30', '2020-07-31'],\n",
       "              dtype='datetime64[ns]', length=247, freq='M')"
      ]
     },
     "execution_count": 10,
     "metadata": {},
     "output_type": "execute_result"
    }
   ],
   "source": [
    "pd.date_range(start = '2000-01-01', periods = len(data.index), freq=\"M\")"
   ]
  },
  {
   "cell_type": "code",
   "execution_count": 23,
   "metadata": {},
   "outputs": [
    {
     "data": {
      "text/plain": [
       "DatetimeIndex(['1999-01-31', '1999-02-28', '1999-03-31', '1999-04-30',\n",
       "               '1999-05-31', '1999-06-30', '1999-07-31', '1999-08-31',\n",
       "               '1999-09-30', '1999-10-31',\n",
       "               ...\n",
       "               '2018-10-31', '2018-11-30', '2018-12-31', '2019-01-31',\n",
       "               '2019-02-28', '2019-03-31', '2019-04-30', '2019-05-31',\n",
       "               '2019-06-30', '2019-07-31'],\n",
       "              dtype='datetime64[ns]', length=247, freq='M')"
      ]
     },
     "execution_count": 23,
     "metadata": {},
     "output_type": "execute_result"
    }
   ],
   "source": [
    "pd.date_range(start = '1999-01-01', end = '2019-07-31', freq=\"M\")"
   ]
  },
  {
   "cell_type": "code",
   "execution_count": 19,
   "metadata": {},
   "outputs": [],
   "source": [
    "data['date'] = pd.date_range(start = '1999-01-01', end = '2019-07-31', freq=\"M\")"
   ]
  },
  {
   "cell_type": "code",
   "execution_count": 37,
   "metadata": {},
   "outputs": [
    {
     "data": {
      "text/plain": [
       "Timestamp('2019-07-11 00:00:00')"
      ]
     },
     "execution_count": 37,
     "metadata": {},
     "output_type": "execute_result"
    }
   ],
   "source": [
    "list(pd.date_range(start = '1999-01-01', end = '2019-07-31', freq=\"M\"))\n",
    "pd.Timestamp('2019-07-11')"
   ]
  },
  {
   "cell_type": "code",
   "execution_count": 38,
   "metadata": {},
   "outputs": [],
   "source": [
    "temp = list(pd.date_range(start = '1999-01-01', end = '2019-07-31', freq=\"M\"))\n",
    "for i in range(12):\n",
    "    temp[i] = np.nan\n",
    "temp[-1] = pd.Timestamp('2019-07-11')\n",
    "data['date'] = temp"
   ]
  },
  {
   "cell_type": "code",
   "execution_count": 39,
   "metadata": {},
   "outputs": [],
   "source": [
    "data.index = data['date']"
   ]
  },
  {
   "cell_type": "code",
   "execution_count": 44,
   "metadata": {},
   "outputs": [],
   "source": [
    "data = data[['Block1_factor1', 'Block2_factor1', 'Block3_factor1', 'Block4_factor1']]\n",
    "data.to_csv('Factor 2019-07-11(2).csv')"
   ]
  },
  {
   "cell_type": "code",
   "execution_count": null,
   "metadata": {},
   "outputs": [],
   "source": []
  }
 ],
 "metadata": {
  "kernelspec": {
   "display_name": "Python 3",
   "language": "python",
   "name": "python3"
  },
  "language_info": {
   "codemirror_mode": {
    "name": "ipython",
    "version": 3
   },
   "file_extension": ".py",
   "mimetype": "text/x-python",
   "name": "python",
   "nbconvert_exporter": "python",
   "pygments_lexer": "ipython3",
   "version": "3.7.1"
  }
 },
 "nbformat": 4,
 "nbformat_minor": 4
}
